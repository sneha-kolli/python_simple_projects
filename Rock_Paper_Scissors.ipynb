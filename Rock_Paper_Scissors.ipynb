{
 "cells": [
  {
   "cell_type": "code",
   "execution_count": 1,
   "id": "9352cb5e",
   "metadata": {},
   "outputs": [],
   "source": [
    "import random"
   ]
  },
  {
   "cell_type": "code",
   "execution_count": 9,
   "id": "e0555bfe",
   "metadata": {},
   "outputs": [],
   "source": [
    "def game():\n",
    "    user = input(\"choose one 'r' for rock and 'p' for paper and 's' for scissors : \")\n",
    "    computer = random.choice(['r','p','s'])\n",
    "    \n",
    "    if win(user,computer):\n",
    "        return \"You Win\"\n",
    "    else:\n",
    "        return \"You lost\""
   ]
  },
  {
   "cell_type": "code",
   "execution_count": 10,
   "id": "bbe64013",
   "metadata": {},
   "outputs": [],
   "source": [
    "def win(u,c):\n",
    "    if((u=='r' and c=='s') or (u=='s' and c == 'p') or(u=='p' and c=='r')):\n",
    "        return True\n",
    "    return False"
   ]
  },
  {
   "cell_type": "code",
   "execution_count": 15,
   "id": "eca698b1",
   "metadata": {},
   "outputs": [
    {
     "name": "stdout",
     "output_type": "stream",
     "text": [
      "choose one 'r' for rock and 'p' for paper and 's' for scissors : r\n",
      "You Win\n"
     ]
    }
   ],
   "source": [
    "print(game())"
   ]
  },
  {
   "cell_type": "code",
   "execution_count": null,
   "id": "7e49aa62",
   "metadata": {},
   "outputs": [],
   "source": []
  }
 ],
 "metadata": {
  "kernelspec": {
   "display_name": "Python 3",
   "language": "python",
   "name": "python3"
  },
  "language_info": {
   "codemirror_mode": {
    "name": "ipython",
    "version": 3
   },
   "file_extension": ".py",
   "mimetype": "text/x-python",
   "name": "python",
   "nbconvert_exporter": "python",
   "pygments_lexer": "ipython3",
   "version": "3.8.8"
  }
 },
 "nbformat": 4,
 "nbformat_minor": 5
}
