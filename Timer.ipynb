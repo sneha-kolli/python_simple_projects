{
 "cells": [
  {
   "cell_type": "code",
   "execution_count": 13,
   "id": "5ac5dddd",
   "metadata": {},
   "outputs": [],
   "source": [
    "import time\n",
    "import re"
   ]
  },
  {
   "cell_type": "code",
   "execution_count": 27,
   "id": "4c84b24b",
   "metadata": {},
   "outputs": [],
   "source": [
    "def Timer(t):\n",
    "    while t:\n",
    "        mins,sec = divmod(t,60)\n",
    "        timer = '{:02d}:{:02d}'.format(mins,sec)\n",
    "        print(timer,sep='\\r')\n",
    "        time.sleep(1)\n",
    "        t -= 1\n",
    "    return \"The time's up!!\""
   ]
  },
  {
   "cell_type": "code",
   "execution_count": 28,
   "id": "a0e2b696",
   "metadata": {},
   "outputs": [
    {
     "name": "stdout",
     "output_type": "stream",
     "text": [
      "Enter a value to start a timer in seconds:9\n",
      "00:09\n",
      "00:08\n",
      "00:07\n",
      "00:06\n",
      "00:05\n",
      "00:04\n",
      "00:03\n",
      "00:02\n",
      "00:01\n"
     ]
    },
    {
     "data": {
      "text/plain": [
       "\"The time's up!!\""
      ]
     },
     "execution_count": 28,
     "metadata": {},
     "output_type": "execute_result"
    }
   ],
   "source": [
    "Timer(int(input(\"Enter a value to start a timer in seconds:\")))"
   ]
  },
  {
   "cell_type": "code",
   "execution_count": null,
   "id": "d3fd2e62",
   "metadata": {},
   "outputs": [],
   "source": []
  },
  {
   "cell_type": "code",
   "execution_count": null,
   "id": "b3140614",
   "metadata": {},
   "outputs": [],
   "source": []
  }
 ],
 "metadata": {
  "kernelspec": {
   "display_name": "Python 3",
   "language": "python",
   "name": "python3"
  },
  "language_info": {
   "codemirror_mode": {
    "name": "ipython",
    "version": 3
   },
   "file_extension": ".py",
   "mimetype": "text/x-python",
   "name": "python",
   "nbconvert_exporter": "python",
   "pygments_lexer": "ipython3",
   "version": "3.8.8"
  }
 },
 "nbformat": 4,
 "nbformat_minor": 5
}
