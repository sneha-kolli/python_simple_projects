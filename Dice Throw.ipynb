{
 "cells": [
  {
   "cell_type": "code",
   "execution_count": 7,
   "id": "7fbdba85",
   "metadata": {},
   "outputs": [],
   "source": [
    "import random"
   ]
  },
  {
   "cell_type": "code",
   "execution_count": 10,
   "id": "66bfd80d",
   "metadata": {},
   "outputs": [],
   "source": [
    "def Dice_Throw (n):\n",
    "    for i in range(n):\n",
    "        r_n = random.randint(1,6)\n",
    "        print(f\"the die at {i+1} throw gets the value: {r_n}\")"
   ]
  },
  {
   "cell_type": "code",
   "execution_count": 12,
   "id": "f3a534f5",
   "metadata": {},
   "outputs": [
    {
     "name": "stdout",
     "output_type": "stream",
     "text": [
      "Welcome to die throw!! Just enter the number of times you want to throw the die \n",
      "\n",
      "5\n",
      "the die at 1 throw gets the value: 1\n",
      "the die at 2 throw gets the value: 1\n",
      "the die at 3 throw gets the value: 3\n",
      "the die at 4 throw gets the value: 3\n",
      "the die at 5 throw gets the value: 5\n"
     ]
    }
   ],
   "source": [
    "print(\"Welcome to die throw!! Just enter the number of times you want to throw the die \\n\")\n",
    "Dice_Throw(int(input()))"
   ]
  },
  {
   "cell_type": "code",
   "execution_count": null,
   "id": "0c4f0c75",
   "metadata": {},
   "outputs": [],
   "source": []
  }
 ],
 "metadata": {
  "kernelspec": {
   "display_name": "Python 3",
   "language": "python",
   "name": "python3"
  },
  "language_info": {
   "codemirror_mode": {
    "name": "ipython",
    "version": 3
   },
   "file_extension": ".py",
   "mimetype": "text/x-python",
   "name": "python",
   "nbconvert_exporter": "python",
   "pygments_lexer": "ipython3",
   "version": "3.8.8"
  }
 },
 "nbformat": 4,
 "nbformat_minor": 5
}
