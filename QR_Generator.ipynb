{
 "cells": [
  {
   "cell_type": "raw",
   "id": "9ba0e1e9",
   "metadata": {},
   "source": [
    "before starting with the code we need to install two modules they are:\n",
    "pip install qrcode\n",
    "pip install image"
   ]
  },
  {
   "cell_type": "code",
   "execution_count": 1,
   "id": "f6ca3ba5",
   "metadata": {},
   "outputs": [],
   "source": [
    "# import the required libraries\n",
    "\n",
    "import qrcode\n",
    "import image"
   ]
  },
  {
   "cell_type": "code",
   "execution_count": 2,
   "id": "b6b53439",
   "metadata": {},
   "outputs": [],
   "source": [
    "Q_code = qrcode.QRCode(\n",
    "            version = 20, #20 resembles the version of qrcode and larger the number then bigger and  complicated the qr will be generated\n",
    "            box_size = 10, # size of the box in which the qr image will be generated\n",
    "            border = 10 # it defines the border for the qr present in the box\n",
    "        )"
   ]
  },
  {
   "cell_type": "code",
   "execution_count": 3,
   "id": "2d36b922",
   "metadata": {},
   "outputs": [],
   "source": [
    "# here we need to give the data for which we want to generate the QR for.\n",
    "#i'm taking link which will redirect me to my linkedin.\n",
    "# even you can give a text for a QR will be generated.\n",
    "data = \"https://www.linkedin.com/in/sneha-kolli-88038621b/\""
   ]
  },
  {
   "cell_type": "code",
   "execution_count": 4,
   "id": "a5acec69",
   "metadata": {},
   "outputs": [],
   "source": [
    "Q_code.add_data(data)\n",
    "Q_code.make(fit=True)\n",
    "img = Q_code.make_image(fill=\"brown\",back_color=\"yellow\")\n",
    "img.save(\"test.png\")"
   ]
  }
 ],
 "metadata": {
  "kernelspec": {
   "display_name": "Python 3",
   "language": "python",
   "name": "python3"
  },
  "language_info": {
   "codemirror_mode": {
    "name": "ipython",
    "version": 3
   },
   "file_extension": ".py",
   "mimetype": "text/x-python",
   "name": "python",
   "nbconvert_exporter": "python",
   "pygments_lexer": "ipython3",
   "version": "3.8.8"
  }
 },
 "nbformat": 4,
 "nbformat_minor": 5
}
