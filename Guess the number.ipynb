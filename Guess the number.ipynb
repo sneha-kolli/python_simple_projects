{
 "cells": [
  {
   "cell_type": "code",
   "execution_count": 8,
   "id": "811a5422",
   "metadata": {},
   "outputs": [],
   "source": [
    "#import required libraries\n",
    "import random"
   ]
  },
  {
   "cell_type": "code",
   "execution_count": 23,
   "id": "8a77a2da",
   "metadata": {},
   "outputs": [],
   "source": [
    "def Guess(x):\n",
    "    val = random.randint(1,x)\n",
    "    sol = 0\n",
    "    while val != sol:\n",
    "        sol = int(input(f\"enter a value from 1 to {x} :\"))\n",
    "        if sol < val:\n",
    "            print(\"oops!! wrong guess,too low\")\n",
    "            print(\"\\n\")\n",
    "        elif sol>val:\n",
    "            print(\"oops !! wrong guess,too high\")\n",
    "            print(\"\\n\")\n",
    "    print(f\"Bangg!! you predicted the number {sol} right\")"
   ]
  },
  {
   "cell_type": "code",
   "execution_count": 24,
   "id": "062325b3",
   "metadata": {},
   "outputs": [
    {
     "name": "stdout",
     "output_type": "stream",
     "text": [
      "enter a value from 1 to 5 :3\n",
      "oops !! wrong guess,too high\n",
      "\n",
      "\n",
      "enter a value from 1 to 5 :12\n",
      "oops !! wrong guess,too high\n",
      "\n",
      "\n",
      "enter a value from 1 to 5 :1\n",
      "oops!! wrong guess,too low\n",
      "\n",
      "\n",
      "enter a value from 1 to 5 :4\n",
      "oops !! wrong guess,too high\n",
      "\n",
      "\n",
      "enter a value from 1 to 5 :5\n",
      "oops !! wrong guess,too high\n",
      "\n",
      "\n",
      "enter a value from 1 to 5 :2\n",
      "Bangg!! you predicted the number 2 right\n"
     ]
    }
   ],
   "source": [
    "Guess(5)"
   ]
  },
  {
   "cell_type": "code",
   "execution_count": null,
   "id": "ccb025d5",
   "metadata": {},
   "outputs": [],
   "source": []
  }
 ],
 "metadata": {
  "kernelspec": {
   "display_name": "Python 3",
   "language": "python",
   "name": "python3"
  },
  "language_info": {
   "codemirror_mode": {
    "name": "ipython",
    "version": 3
   },
   "file_extension": ".py",
   "mimetype": "text/x-python",
   "name": "python",
   "nbconvert_exporter": "python",
   "pygments_lexer": "ipython3",
   "version": "3.8.8"
  }
 },
 "nbformat": 4,
 "nbformat_minor": 5
}
