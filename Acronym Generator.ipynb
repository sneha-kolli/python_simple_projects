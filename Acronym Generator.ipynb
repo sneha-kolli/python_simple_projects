{
 "cells": [
  {
   "cell_type": "code",
   "execution_count": 10,
   "id": "30630f54",
   "metadata": {},
   "outputs": [
    {
     "data": {
      "text/plain": [
       "'HW'"
      ]
     },
     "execution_count": 10,
     "metadata": {},
     "output_type": "execute_result"
    }
   ],
   "source": [
    "print(\"Welcome \")\n",
    "AG(\"hello world\")"
   ]
  },
  {
   "cell_type": "code",
   "execution_count": 9,
   "id": "59392c16",
   "metadata": {},
   "outputs": [],
   "source": [
    "def AG(word):\n",
    "    word = word.split()\n",
    "    res = ''\n",
    "    for i in word:\n",
    "        res = res+str(i[0]).upper()\n",
    "    return res"
   ]
  },
  {
   "cell_type": "code",
   "execution_count": null,
   "id": "2bae6eb5",
   "metadata": {},
   "outputs": [],
   "source": []
  }
 ],
 "metadata": {
  "kernelspec": {
   "display_name": "Python 3",
   "language": "python",
   "name": "python3"
  },
  "language_info": {
   "codemirror_mode": {
    "name": "ipython",
    "version": 3
   },
   "file_extension": ".py",
   "mimetype": "text/x-python",
   "name": "python",
   "nbconvert_exporter": "python",
   "pygments_lexer": "ipython3",
   "version": "3.8.8"
  }
 },
 "nbformat": 4,
 "nbformat_minor": 5
}
