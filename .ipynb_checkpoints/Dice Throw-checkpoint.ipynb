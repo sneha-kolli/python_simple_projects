{
 "cells": [
  {
   "cell_type": "code",
   "execution_count": 6,
   "id": "9c034c67",
   "metadata": {},
   "outputs": [],
   "source": [
    "import random"
   ]
  },
  {
   "cell_type": "code",
   "execution_count": null,
   "id": "67e9d924",
   "metadata": {},
   "outputs": [],
   "source": [
    "def\n"
   ]
  }
 ],
 "metadata": {
  "kernelspec": {
   "display_name": "Python 3",
   "language": "python",
   "name": "python3"
  }
 },
 "nbformat": 4,
 "nbformat_minor": 5
}
