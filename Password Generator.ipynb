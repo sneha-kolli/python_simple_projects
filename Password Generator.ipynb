{
 "cells": [
  {
   "cell_type": "code",
   "execution_count": 1,
   "id": "3a87b78c",
   "metadata": {},
   "outputs": [],
   "source": [
    "#here the user will be giving us how many passwords to generate and what is the length he requires then we  proceed forward."
   ]
  },
  {
   "cell_type": "code",
   "execution_count": 2,
   "id": "1c74a1ef",
   "metadata": {},
   "outputs": [],
   "source": [
    "import random"
   ]
  },
  {
   "cell_type": "code",
   "execution_count": 3,
   "id": "3ece944a",
   "metadata": {},
   "outputs": [
    {
     "name": "stdout",
     "output_type": "stream",
     "text": [
      "Welcome to our password Generator\n"
     ]
    }
   ],
   "source": [
    "print(\"Welcome to our password Generator\")"
   ]
  },
  {
   "cell_type": "code",
   "execution_count": 4,
   "id": "82121c24",
   "metadata": {},
   "outputs": [],
   "source": [
    "chars = 'abcdefghijklmnopqrstuvwxyzABCDEFGHIJKLMNOPQRSTUVWXYZ1234567890!@#$%^&*().,?'"
   ]
  },
  {
   "cell_type": "code",
   "execution_count": 5,
   "id": "280820a0",
   "metadata": {},
   "outputs": [
    {
     "name": "stdout",
     "output_type": "stream",
     "text": [
      "Enter the number of passwords to generate: 5\n"
     ]
    }
   ],
   "source": [
    "no_of_pwd = int(input(\"Enter the number of passwords to generate: \"))"
   ]
  },
  {
   "cell_type": "code",
   "execution_count": 7,
   "id": "c548e1f6",
   "metadata": {},
   "outputs": [
    {
     "name": "stdout",
     "output_type": "stream",
     "text": [
      "Enter the length of the passwords to be generated: 8\n"
     ]
    }
   ],
   "source": [
    "pwd_len = int(input(\"Enter the length of the passwords to be generated: \"))"
   ]
  },
  {
   "cell_type": "code",
   "execution_count": 8,
   "id": "00531b22",
   "metadata": {},
   "outputs": [
    {
     "name": "stdout",
     "output_type": "stream",
     "text": [
      "The generated passwords are : \n",
      "\n",
      "!e)*rib(\n",
      "wdEj7u4Y\n",
      "(ojMMkGp\n",
      ")WWFdxkd\n",
      "#7wWF7Wd\n"
     ]
    }
   ],
   "source": [
    "print(\"The generated passwords are : \\n\")\n",
    "for i in range(no_of_pwd):\n",
    "    pwd = ''\n",
    "    for j in range(pwd_len):\n",
    "        pwd += random.choice(chars)\n",
    "    print(pwd)"
   ]
  }
 ],
 "metadata": {
  "kernelspec": {
   "display_name": "Python 3",
   "language": "python",
   "name": "python3"
  },
  "language_info": {
   "codemirror_mode": {
    "name": "ipython",
    "version": 3
   },
   "file_extension": ".py",
   "mimetype": "text/x-python",
   "name": "python",
   "nbconvert_exporter": "python",
   "pygments_lexer": "ipython3",
   "version": "3.8.8"
  }
 },
 "nbformat": 4,
 "nbformat_minor": 5
}
