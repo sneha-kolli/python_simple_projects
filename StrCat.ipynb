{
 "cells": [
  {
   "cell_type": "code",
   "execution_count": 11,
   "id": "bb3084f3",
   "metadata": {},
   "outputs": [
    {
     "name": "stdout",
     "output_type": "stream",
     "text": [
      "Enter any youtuber name=Geddam Angels\n",
      "Welcome to Geddam Angels Youtube channel\n",
      "Welcome to Geddam Angels Youtube channel\n",
      "Welcome to Geddam Angels Youtube channel\n"
     ]
    }
   ],
   "source": [
    "youtuber_name = input(\"Enter any youtuber name=\")\n",
    "print(\"Welcome to\",youtuber_name+\" Youtube channel\")\n",
    "print(\"Welcome to {} Youtube channel\".format(youtuber_name))\n",
    "print(f\"Welcome to {youtuber_name} Youtube channel\")"
   ]
  }
 ],
 "metadata": {
  "kernelspec": {
   "display_name": "Python 3",
   "language": "python",
   "name": "python3"
  },
  "language_info": {
   "codemirror_mode": {
    "name": "ipython",
    "version": 3
   },
   "file_extension": ".py",
   "mimetype": "text/x-python",
   "name": "python",
   "nbconvert_exporter": "python",
   "pygments_lexer": "ipython3",
   "version": "3.8.8"
  }
 },
 "nbformat": 4,
 "nbformat_minor": 5
}
